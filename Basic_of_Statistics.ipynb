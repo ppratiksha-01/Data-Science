{
  "nbformat": 4,
  "nbformat_minor": 0,
  "metadata": {
    "colab": {
      "provenance": []
    },
    "kernelspec": {
      "name": "python3",
      "display_name": "Python 3"
    },
    "language_info": {
      "name": "python"
    }
  },
  "cells": [
    {
      "cell_type": "markdown",
      "source": [
        "Basics of Statistics\n",
        "1. Explain the different types of data (qualitative and quantitative) and provide examples of each. Discuss nominal, ordinal, interval, and ratio scales.\n",
        "a. Qualitative : Describes qualities or categories.\n",
        "\n",
        "Example: Colors (Red, Blue, Green), Gender (Male, Female), Types of Fruit (Apple, Banana). Subtypes:\n",
        "\n",
        "Nominal: No specific order (e.g., colors: Red, Blue, Green).\n",
        "Ordinal: Has an order but no exact difference (e.g., movie ratings: Bad, Average, Good).\n",
        "b. Quantitative : Represents numbers and measurements.\n",
        "\n",
        "Example: Age (10, 20, 30), Height (150 cm, 160 cm), Temperature. Subtypes:\n",
        "\n",
        "Interval: Ordered, with meaningful differences but no true zero (e.g., temperature in Celsius).\n",
        "Ratio: Ordered, with a true zero (e.g., weight, height, income).\n",
        "2. What are the measures of central tendency, and when should you use each? Discuss the mean, median, and mode with examples and situations where each is appropriate.\n",
        "\n",
        "[ ]\n"
      ],
      "metadata": {
        "id": "lquoqlVmgSDp"
      }
    },
    {
      "cell_type": "code",
      "execution_count": null,
      "metadata": {
        "colab": {
          "base_uri": "https://localhost:8080/"
        },
        "id": "hu9Tu6KDgPCh",
        "outputId": "1fca52f3-eeec-44f1-f3b3-64746d856053"
      },
      "outputs": [
        {
          "output_type": "stream",
          "name": "stdout",
          "text": [
            "Mean =  30.0\n",
            "Median =  30.0\n",
            "Mode =  <bound method Series.mode of 0    10\n",
            "1    20\n",
            "2    30\n",
            "3    40\n",
            "4    50\n",
            "dtype: int64>\n"
          ]
        }
      ],
      "source": [
        "'''\n",
        "Central tendency measures help to find the \"center\" of a dataset,\n",
        "providing a single value that best represents the data. The three main measures are:\n",
        "\n",
        "\n",
        "1. Mean\n",
        "> The mean is the sum of all values divided by the total number of values.\n",
        "- Best for data without extreme outliers.\n",
        "- Suitable for normally distributed data (e.g., exam scores, temperature readings).\n",
        "\n",
        "2. Median\n",
        "> The median is the middle value when data is arranged in order.\n",
        "- Best for skewed data (e.g., income levels, house prices).\n",
        "- Provides a better measure of the \"typical\" value when outliers are present.\n",
        "\n",
        "3. Mode\n",
        "> The mode is the value that appears most frequently in the dataset.\n",
        "- Best for categorical data (e.g., favorite colors, survey responses).\n",
        " - Useful when identifying the most common occurrence.\n",
        "'''\n",
        "import pandas as pd\n",
        "\n",
        "data = [10, 20, 30, 40, 50]\n",
        "print(f\"Mean = \", pd.Series(data).mean())\n",
        "print(f\"Median = \", pd.Series(data).median())\n",
        "print(f\"Mode = \", pd.Series(data).mode)"
      ]
    },
    {
      "cell_type": "code",
      "source": [
        "'''\n",
        "** Concept of Dispersion\n",
        "> Dispersion tells us how spread out or scattered the data points are in a dataset.\n",
        "It helps us understand the variability in the data—whether the values are close to the average (mean) or spread widely.\n",
        "\n",
        "1. Variance\n",
        "> Variance measures the average squared difference of each value from the mean.\n",
        "A high variance means data points are spread out, while a low variance means they are close to the mean.\n",
        "'''\n",
        "#Example: -\n",
        "import numpy as np\n",
        "data = [10, 20, 30, 40, 50]\n",
        "print(f\"Variance = \", np.var(data))\n",
        "\n",
        "'''\n",
        "2. Standard Deviation\n",
        "Standard deviation is the square root of variance. It gives dispersion in the same units as the original data,\n",
        "making it easier to interpret.\n",
        "'''\n",
        "#Example: -\n",
        "#same data from above\n",
        "print(f\"Standard = \", np.std(data))"
      ],
      "metadata": {
        "colab": {
          "base_uri": "https://localhost:8080/"
        },
        "id": "WRdjhYh-hSRF",
        "outputId": "37623905-a8ec-4a60-e73a-8a5cf64d76e1"
      },
      "execution_count": null,
      "outputs": [
        {
          "output_type": "stream",
          "name": "stdout",
          "text": [
            "Variance =  200.0\n",
            "Standard =  14.142135623730951\n"
          ]
        }
      ]
    },
    {
      "cell_type": "code",
      "source": [
        "#4. What is a box plot, and what can it tell you about the distribution of data?\n",
        "'''\n",
        "A box plot also called a box-and-whisker plot is a visual tool used to display the distribution of a dataset.\n",
        "It shows important summary statistics such as:\n",
        "\n",
        "a. Spread of Data (Range & IQR):\n",
        "It shows the interquartile range (IQR) (middle 50% of data).\n",
        "Whiskers show the overall spread of the data.\n",
        "\n",
        "b. Central Tendency:\n",
        "The line inside the box represents the median, helping to see the center of the data.\n",
        "\n",
        "c. Outliers:\n",
        "Individual points outside the whiskers indicate outliers, which can be extreme values.\n",
        "\n",
        "d. Symmetry & Skewness:\n",
        "If the median is centered, the data is symmetrical.\n",
        "If the median is off-center, the data is skewed.\n",
        "'''\n",
        "\n",
        "import matplotlib.pyplot as plt\n",
        "\n",
        "data = [5, 7, 8, 9, 10, 12, 15, 18, 21, 25, 30, 35]\n",
        "plt.boxplot(data)\n",
        "plt.title(\"Box Plot Example\")\n",
        "plt.show()"
      ],
      "metadata": {
        "colab": {
          "base_uri": "https://localhost:8080/",
          "height": 452
        },
        "id": "JhFUiV_jhdjJ",
        "outputId": "01b6f2f2-9177-4a07-877e-46e6c366cc5b"
      },
      "execution_count": null,
      "outputs": [
        {
          "output_type": "display_data",
          "data": {
            "text/plain": [
              "<Figure size 640x480 with 1 Axes>"
            ],
            "image/png": "[encoded data removed]"
          },
          "metadata": {}
        }
      ]
    },
    {
      "cell_type": "code",
      "source": [
        "#5. Discuss the role of random sampling in making inferences about populations.\n",
        "'''\n",
        "Random sampling is a technique used to select a subset of individuals from a larger\n",
        "population in such a way that every individual has an equal chance of being chosen.\n",
        "It helps ensure that the sample represents the population accurately and reduces bias in decision-making.\n",
        "\n",
        "Reduces Bias\n",
        "Cost and Time Efficiency\n",
        "Allows Statistical Inference\n",
        "'''\n",
        "\n",
        "import random\n",
        "\n",
        "population = ['Alice', 'Bob', 'Charlie', 'David', 'Emma', 'Frank', 'Grace']\n",
        "spl = random.sample(population, 3)\n",
        "print(\"Random Sample:\", spl)"
      ],
      "metadata": {
        "colab": {
          "base_uri": "https://localhost:8080/"
        },
        "id": "fn7j9ZIChhCA",
        "outputId": "daaed9bd-51aa-4acc-a4c1-3a3e02619f58"
      },
      "execution_count": null,
      "outputs": [
        {
          "output_type": "stream",
          "name": "stdout",
          "text": [
            "Random Sample: ['Grace', 'Emma', 'Alice']\n"
          ]
        }
      ]
    },
    {
      "cell_type": "code",
      "source": [
        "#6. Explain the concept of skewness and its types. How does skewness affect the interpretation of data?\n",
        "'''\n",
        "What is Skewness?\n",
        "> Skewness measures how data is distributed around the average (mean). It shows whether data is symmetrically distributed or if it has a lean (skew) to one side.\n",
        "- If data is symmetrical, the left and right sides of the distribution are mirror images.\n",
        "- If data is skewed, one side of the distribution has more values than the other.\n",
        "\n",
        "Types of Skewness:\n",
        "\n",
        "a. Positive Skew (Right-Skewed):\n",
        "- Most values are on the left side, but a few higher values pull the mean to the right.\n",
        "- Example: Income distribution (a few people earn very high salaries compared to the majority).\n",
        "- Effect: Mean > Median > Mode.\n",
        "\n",
        "b. Negative Skew (Left-Skewed):\n",
        "- Most values are on the right side, but a few lower values pull the mean to the left.\n",
        "- Example: Age at retirement (a few people retire very early compared to most).\n",
        "- Effect: Mean < Median < Mode.\n",
        "\n",
        "c. No Skew (Symmetrical Distribution):\n",
        "- Mean, median, and mode are equal.\n",
        "- Example: Heights of people in a large population.\n",
        "- Effect: Mean = Median = Mode\n",
        "\n",
        "How Skewness Affects Data Interpretation:\n",
        "- In skewed data, median is a better representation than the mean because it is not affected by extreme values.\n",
        "- In right-skewed data, the mean overestimates the central value; in left-skewed data, it underestimates.\n",
        "'''"
      ],
      "metadata": {
        "colab": {
          "base_uri": "https://localhost:8080/",
          "height": 139
        },
        "id": "deSRnkIThqtz",
        "outputId": "fe9bef10-8861-4b1e-c6a7-f5a32f920555"
      },
      "execution_count": null,
      "outputs": [
        {
          "output_type": "execute_result",
          "data": {
            "text/plain": [
              "'\\nWhat is Skewness?\\n> Skewness measures how data is distributed around the average (mean). It shows whether data is symmetrically distributed or if it has a lean (skew) to one side.\\n- If data is symmetrical, the left and right sides of the distribution are mirror images.\\n- If data is skewed, one side of the distribution has more values than the other.\\n\\nTypes of Skewness:\\n\\na. Positive Skew (Right-Skewed):\\n- Most values are on the left side, but a few higher values pull the mean to the right.\\n- Example: Income distribution (a few people earn very high salaries compared to the majority).\\n- Effect: Mean > Median > Mode.\\n\\nb. Negative Skew (Left-Skewed):\\n- Most values are on the right side, but a few lower values pull the mean to the left.\\n- Example: Age at retirement (a few people retire very early compared to most).\\n- Effect: Mean < Median < Mode.\\n\\nc. No Skew (Symmetrical Distribution):\\n- Mean, median, and mode are equal.\\n- Example: Heights of people in a large population.\\n- Effect: Mean = Median = Mode\\n\\nHow Skewness Affects Data Interpretation:\\n- In skewed data, median is a better representation than the mean because it is not affected by extreme values.\\n- In right-skewed data, the mean overestimates the central value; in left-skewed data, it underestimates.\\n'"
            ],
            "application/vnd.google.colaboratory.intrinsic+json": {
              "type": "string"
            }
          },
          "metadata": {},
          "execution_count": 7
        }
      ]
    },
    {
      "cell_type": "code",
      "source": [
        "#7. What is the interquartile range (IQR), and how is it used to detect outliers?\n",
        "'''\n",
        "The Interquartile Range (IQR) is a measure of statistical dispersion, or,\n",
        "it tells you the spread of the middle 50% of your data. It is the range between the first quartile (Q1) and the third quartile (Q3).\n",
        "'''\n",
        "\n",
        "#Let's see a example to calculate IQR and use it to detect outliers:\n",
        "\n",
        "import numpy as np\n",
        "\n",
        "data = [12, 15, 14, 10, 100, 20, 22, 23, 24, 30]\n",
        "\n",
        "Q1 = np.percentile(data, 25)\n",
        "Q3 = np.percentile(data, 75)\n",
        "IQR = Q3 - Q1\n",
        "\n",
        "lower_bound = Q1 - 1.5 * IQR\n",
        "upper_bound = Q3 + 1.5 * IQR\n",
        "\n",
        "# Identify outliers\n",
        "outliers = [x for x in data if x < lower_bound or x > upper_bound]\n",
        "\n",
        "print(\"IQR:\", IQR)\n",
        "print(\"Lower bound:\", lower_bound)\n",
        "print(\"Upper bound:\", upper_bound)\n",
        "print(\"Outliers:\", outliers)"
      ],
      "metadata": {
        "colab": {
          "base_uri": "https://localhost:8080/"
        },
        "id": "v65A3gHOiyus",
        "outputId": "2d32ad5c-0d57-4ba0-cc8a-94c170dcb0a5"
      },
      "execution_count": null,
      "outputs": [
        {
          "output_type": "stream",
          "name": "stdout",
          "text": [
            "IQR: 9.5\n",
            "Lower bound: 0.0\n",
            "Upper bound: 38.0\n",
            "Outliers: [100]\n"
          ]
        }
      ]
    },
    {
      "cell_type": "code",
      "source": [
        "#8. Discuss the conditions under which the binomial distribution is used.\n",
        "'''\n",
        "Conditions for Using Binomial Distribution:\n",
        "\n",
        "a. Fixed Number of Trials (n):\n",
        "- The number of trials, n, is fixed in advance.\n",
        "For example, you might flip a coin 10 times, conduct 20 surveys, or perform an experiment 50 times.\n",
        "\n",
        "b. Two Possible Outcomes:\n",
        "- typically called \"success\" and \"failure.\"\n",
        "For instance, you might consider \"heads\" as a success and \"tails\" as a failure when flipping a coin.\n",
        "- The probability of success, p, must remain the same for each trial.\n",
        "For example, the probability of getting \"heads\" in each coin flip is always 0.5.\n",
        "\n",
        "c. Independence of Trials:\n",
        "- The outcome of one trial must not affect the outcome of any other trial.\n",
        "For example, whether you get \"heads\" or \"tails\" on the first flip should not affect the result of the next flip.\n",
        "\n",
        "d. Discrete Events:\n",
        "- The number of successes is a countable variable. For instance, in 10 coin flips,\n",
        "you could get anywhere between 0 to 10 heads, which are discrete values.\n",
        "'''"
      ],
      "metadata": {
        "id": "hjaiUk6ei6oy"
      },
      "execution_count": null,
      "outputs": []
    },
    {
      "cell_type": "code",
      "source": [
        "#9. Explain the properties of the normal distribution and the empirical rule (68-95-99.7 rule).\n",
        "'''\n",
        "1... Properties of the Normal Distribution:\n",
        "The normal distribution is a common way to represent data that follows a \"bell-shaped\" curve. Here are its key properties:\n",
        "\n",
        "a. Symmetry:\n",
        "The normal distribution is perfectly symmetrical around its center.\n",
        "This means the left half of the curve is a mirror image of the right half.\n",
        "\n",
        "b. Mean, Median, and Mode are Equal:\n",
        "In a normal distribution, the mean (average), median (middle value), and mode (most frequent value)\n",
        "are all the same and are located at the center of the distribution.\n",
        "\n",
        "c. Bell-shaped Curve:\n",
        "The curve has a peak at the mean, and it gradually slopes down on either side.\n",
        "Most of the data points are near the mean, and fewer are found far from it.\n",
        "\n",
        "d. Tails Approach Zero:\n",
        "As you move farther from the mean (in either direction), the frequency of data points decreases,\n",
        "but it never touches zero. The curve extends infinitely in both directions.\n",
        "\n",
        "\n",
        "2... Empirical Rule (68-95-99.7 Rule):\n",
        "> The empirical rule describes how data is spread in a normal distribution:\n",
        "\n",
        "a. 68% of the data lies within one standard deviation from the mean.\n",
        "Example: If you have test scores with a mean of 70 and a standard deviation of 10,\n",
        "about 68% of the scores will fall between 60 and 80.\n",
        "\n",
        "b. 95% of the data lies within two standard deviations from the mean.\n",
        "Example: In the same example, 95% of the scores will be between 50 and 90.\n",
        "\n",
        "c. 99.7% of the data lies within three standard deviations from the mean.\n",
        "Example: Almost all the scores (99.7%) will fall between 40 and 100.\n",
        "'''"
      ],
      "metadata": {
        "id": "NCg4L-hXjETB"
      },
      "execution_count": null,
      "outputs": []
    },
    {
      "cell_type": "code",
      "source": [
        "#10. Provide a real-life example of a Poisson process and calculate the probability for a specific event.\n",
        "'''\n",
        "Used for counting events in a fixed time/space.\n",
        "Example: Calls to a helpdesk per hour.\n",
        "'''\n",
        "#Example Calculation:\n",
        "\n",
        "from scipy.stats import poisson\n",
        "print(poisson.pmf(3, 5))"
      ],
      "metadata": {
        "colab": {
          "base_uri": "https://localhost:8080/"
        },
        "id": "pya9PhtvjOGl",
        "outputId": "43990c2d-faef-4f97-861c-03c0e98772eb"
      },
      "execution_count": null,
      "outputs": [
        {
          "output_type": "stream",
          "name": "stdout",
          "text": [
            "0.1403738958142805\n"
          ]
        }
      ]
    },
    {
      "cell_type": "code",
      "source": [
        "#11.  Explain what a random variable is and differentiate between discrete and continuous random variables.\n",
        "'''\n",
        "A random variable is a number that can take different values based on the outcome of a random event or experiment.\n",
        "In simple words, it's like a \"box\" that holds a value that we can't predict with certainty, but we know the possible values it can take.\n",
        "\n",
        "a. Discrete Random Variables:\n",
        "> These are random variables that can only take specific, distinct values. The values are \"countable,\" meaning you can list them one by one.\n",
        "Example: The number of cars passing by a street in an hour (can be 0, 1, 2, 3, etc., but not 2.5 cars).\n",
        "\n",
        "b.Continuous Random Variables:\n",
        "> These are random variables that can take any value within a range. The values are \"uncountable\" and can be decimals or fractions.\n",
        "Example: The height of a person. It could be 170 cm, 170.5 cm, or even 170.1234 cm. You can have an infinite number of possible values.\n",
        "'''"
      ],
      "metadata": {
        "id": "8IHVAECcjS6_"
      },
      "execution_count": null,
      "outputs": []
    },
    {
      "cell_type": "code",
      "source": [
        "#12. Provide an example dataset, calculate both covariance and correlation, and interpret the results.\n",
        "import numpy as np\n",
        "\n",
        "a = [2, 3, 5, 7, 8]\n",
        "b = [50, 60, 80, 90, 95]\n",
        "\n",
        "#Calculate covariance\n",
        "cov = np.cov(a, b)\n",
        "cov_1 = cov[0][1]\n",
        "\n",
        "#Calculate correlation\n",
        "corr = np.corrcoef(a, b)\n",
        "corr_1 = corr[0][1]\n",
        "\n",
        "\n",
        "print(f\"Covariance: {cov_1:.2f}\")\n",
        "print(f\"Correlation: {corr_1:.2f}\")\n",
        "\n",
        "'''\n",
        "Interpretation for the covariance\n",
        "- Covariance measures how two variables (a and b) move together.\n",
        "- Since it's positive (47.50), it means as a increases, b also increases.\n",
        "- However, the value alone doesn't tell us how strong the relationship is.\n",
        "\n",
        "Interpretation for the correlation\n",
        "- Correlation shows how strongly a and b are related, ranging from -1 to 1.\n",
        "- Here, a value of 0.99 means a very strong positive relationship.\n",
        "- This suggests that the more a increases, the more b increases in a nearly linear way.\n",
        "- If the value were closer to 0, it would indicate a weaker relationship.\n",
        "'''"
      ],
      "metadata": {
        "colab": {
          "base_uri": "https://localhost:8080/",
          "height": 139
        },
        "id": "qaTTMHgMjdFP",
        "outputId": "9f22621d-aeef-4c2e-cfcb-d0d99bb2ab04"
      },
      "execution_count": null,
      "outputs": [
        {
          "output_type": "stream",
          "name": "stdout",
          "text": [
            "Covariance: 48.75\n",
            "Correlation: 0.99\n"
          ]
        },
        {
          "output_type": "execute_result",
          "data": {
            "text/plain": [
              "\"\\nInterpretation for the covariance\\n- Covariance measures how two variables (a and b) move together.\\n- Since it's positive (47.50), it means as a increases, b also increases.\\n- However, the value alone doesn't tell us how strong the relationship is.\\n\\nInterpretation for the correlation\\n- Correlation shows how strongly a and b are related, ranging from -1 to 1.\\n- Here, a value of 0.99 means a very strong positive relationship.\\n- This suggests that the more a increases, the more b increases in a nearly linear way.\\n- If the value were closer to 0, it would indicate a weaker relationship.\\n\""
            ],
            "application/vnd.google.colaboratory.intrinsic+json": {
              "type": "string"
            }
          },
          "metadata": {},
          "execution_count": 10
        }
      ]
    },
    {
      "cell_type": "code",
      "source": [],
      "metadata": {
        "id": "O49RtdC5leqd"
      },
      "execution_count": null,
      "outputs": []
    }
  ]
}