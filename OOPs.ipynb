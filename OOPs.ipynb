{
  "nbformat": 4,
  "nbformat_minor": 0,
  "metadata": {
    "colab": {
      "provenance": []
    },
    "kernelspec": {
      "name": "python3",
      "display_name": "Python 3"
    },
    "language_info": {
      "name": "python"
    }
  },
  "cells": [
    {
      "cell_type": "markdown",
      "source": [
        "**Python OOPs Questions**\n",
        "\n",
        "1. What is Object-Oriented Programming (OOP)?\n",
        "OOP is a programming paradigm where you organize software design around objects rather than functions. These objects contain both data and methods (functions) that operate on the data, making it easier to structure and maintain code.\n",
        "\n",
        "2. What is a class in OOP?\n",
        "A class is a blueprint for creating objects. It defines attributes (data) and methods (functions) that the objects created from it will have.\n",
        "\n",
        "3. What is an object in OOP?\n",
        "An object is an instance of a class. It's a specific entity created from the class blueprint, with its own data and the ability to perform methods defined by the class.\n",
        "\n",
        "4. What is the difference between abstraction and encapsulation?\n",
        "Abstraction hides complex implementation details and shows only the necessary features.\n",
        "Encapsulation wraps data and methods into a single unit (class) and restricts direct access to some of the object's components (like private variables).\n",
        "5. What are dunder methods in Python?\n",
        "Dunder methods (short for \"double underscore\") are special methods in Python, like __init__, __str__, and __len__, that allow you to define how objects behave with built-in operations (e.g., addition or string representation).\n",
        "\n",
        "6. Explain the concept of inheritance in OOP.\n",
        "Inheritance allows a class to inherit properties and methods from another class. This promotes code reuse and the creation of more specialized classes from general ones.\n",
        "\n",
        "7. What is polymorphism in OOP?\n",
        "Polymorphism means the ability of different classes to respond to the same method call, each in their own way. This enables flexibility and the use of the same interface for different types of objects.\n",
        "\n",
        "8. How is encapsulation achieved in Python?\n",
        "Encapsulation in Python is achieved by using private attributes (prefixing them with _ or __) and providing public methods (getters and setters) to access or modify those attributes.\n",
        "\n",
        "9. What is a constructor in Python?\n",
        "A constructor is a special method (__init__) used to initialize new objects of a class. It's called automatically when an object is created.\n",
        "\n",
        "10. What are class and static methods in Python?\n",
        "Class method: A method that belongs to the class, not the instance. It is defined using @classmethod and takes the class itself as the first argument (cls).\n",
        "Static method: A method that doesn't take the instance or class as a parameter. It’s defined using @staticmethod and operates independently.\n",
        "11. What is method overloading in Python?\n",
        "Python doesn’t support method overloading in the traditional sense (multiple methods with the same name but different parameters). Instead, it uses default arguments or variable-length arguments to achieve similar behavior.\n",
        "\n",
        "12. What is method overriding in OOP?\n",
        "Method overriding occurs when a subclass provides its own implementation of a method that is already defined in its superclass.\n",
        "\n",
        "13. What is a property decorator in Python?\n",
        "The @property decorator in Python is used to define a method as a getter for an attribute, allowing you to access it like an attribute rather than a method.\n",
        "\n",
        "14. Why is polymorphism important in OOP?\n",
        "Polymorphism allows for flexibility and extensibility in code. It enables objects of different classes to be treated uniformly, improving code reusability and maintainability.\n",
        "\n",
        "15. What is an abstract class in Python?\n",
        "An abstract class is a class that can’t be instantiated directly. It defines common methods for its subclasses, and those subclasses must implement the abstract methods.\n",
        "\n",
        "16. What are the advantages of OOP?\n",
        "Advantages include better organization, code reuse, easier maintenance, modularity, and improved readability.\n",
        "\n",
        "17. What is the difference between a class variable and an instance variable?\n",
        "Class variable: Shared across all instances of the class.\n",
        "Instance variable: Unique to each object created from the class.\n",
        "18. What is multiple inheritance in Python?\n",
        "Multiple inheritance allows a class to inherit from more than one base class, enabling it to combine behaviors and attributes from multiple classes.\n",
        "\n",
        "19. Explain the purpose of __str__ and __repr__ methods in Python.\n",
        "__str__ is meant for creating a human-readable string representation of an object.\n",
        "__repr__ is for creating a more detailed, unambiguous representation, often useful for debugging.\n",
        "20. What is the significance of the super() function in Python?\n",
        "super() is used to call methods from a parent class, particularly in method overriding, to ensure that the parent class’s method is properly invoked.\n",
        "\n",
        "21. What is the significance of the __del__ method in Python?\n",
        "__del__ is a destructor method, called when an object is about to be destroyed, to clean up resources like closing files or releasing memory.\n",
        "\n",
        "22. What is the difference between @staticmethod and @classmethod in Python?\n",
        "@staticmethod is used for methods that don’t operate on the class or instance.\n",
        "@classmethod is used for methods that operate on the class itself and can modify class-level attributes.\n",
        "23. How does polymorphism work in Python with inheritance?\n",
        "Polymorphism allows a subclass to override a method from the parent class, so the same method name can behave differently depending on the class of the object.\n",
        "\n",
        "24. What is method chaining in Python OOP?\n",
        "Method chaining allows you to call multiple methods on an object in a single line, one after another, by having each method return self.\n",
        "\n",
        "25. What is the purpose of the __call__ method in Python?\n",
        "The __call__ method allows an object to be called like a function. It’s a special method that makes an object callable.\n",
        "\n",
        "\n"
      ],
      "metadata": {
        "id": "U7H0Jlo8B3Py"
      }
    },
    {
      "cell_type": "markdown",
      "source": [
        "**Practical Questions**"
      ],
      "metadata": {
        "id": "9CM9GSo1QIB9"
      }
    },
    {
      "cell_type": "code",
      "execution_count": null,
      "metadata": {
        "colab": {
          "base_uri": "https://localhost:8080/"
        },
        "id": "cEIcZomyQEqE",
        "outputId": "7267ab9c-abae-4c42-b0e5-e650ee41b9b2"
      },
      "outputs": [
        {
          "output_type": "stream",
          "name": "stdout",
          "text": [
            "Generic message\n",
            "Bark!\n"
          ]
        }
      ],
      "source": [
        "#1. Create a parent class Animal with a method speak() that prints a generic message. Create a child class Dog that overrides the speak() method to print \"Bark!\".\n",
        "class Animal():\n",
        "  def speak(self):\n",
        "    print(\"Generic message\")\n",
        "    class Dog(Animal):\n",
        "      def speak(self):\n",
        "        print(\"Bark!\")\n",
        "    dog = Dog()\n",
        "    dog.speak()\n",
        "animal = Animal()\n",
        "animal.speak()\n"
      ]
    },
    {
      "cell_type": "code",
      "source": [
        "#2. Write a program to create an abstract class Shape with a method area(). Derive classes Circle and Rectangle from it and implement the area() method in both.\n",
        "import abc\n",
        "class Shape(abc.ABC):\n",
        "  @abc.abstractmethod\n",
        "  def area(self):\n",
        "    pass\n",
        "class Circle(Shape):\n",
        "  def area(self):\n",
        "    print(\"Area of Circle pi r**2\")\n",
        "class Rectangle(Shape):\n",
        "  def area(self):\n",
        "    print(\"Rectangle area of rectangle l*b\")\n",
        "circle = Circle()\n",
        "circle.area()\n",
        "rectangle = Rectangle()\n",
        "rectangle.area()"
      ],
      "metadata": {
        "colab": {
          "base_uri": "https://localhost:8080/"
        },
        "id": "jOhUDyxJQiAo",
        "outputId": "4de49a89-81d1-4309-bc7c-35118cf87e7d"
      },
      "execution_count": null,
      "outputs": [
        {
          "output_type": "stream",
          "name": "stdout",
          "text": [
            "Area of Circle pi r**2\n",
            "Rectangle area of rectangle l*b\n"
          ]
        }
      ]
    },
    {
      "cell_type": "code",
      "source": [
        "#3. Implement a multi-level inheritance scenario where a class Vehicle has an attribute type. Derive a class Car and further derive a class ElectricCar that adds a battery attribute\n",
        "class vehicle():\n",
        "  def __init__(self,type):\n",
        "    self.type = type\n",
        "    class Car(vehicle):\n",
        "      def __init__(self,type,color):\n",
        "        super().__init__(type)\n",
        "        self.color = color\n",
        "    class ElectricCar(Car):\n",
        "      def __init__(self,type,color,battery):\n",
        "        super().__init__(type,color)\n",
        "        self.battery = battery\n",
        "\n",
        "    car = Car(\"sedan\",\"red\")\n",
        "    print(car.type,car.color)\n",
        "\n",
        "    Elec= ElectricCar(\"sedan\",\"red\",1000)\n",
        "    print(Elec.type,Elec.color,Elec.battery)\n",
        "\n",
        "\n"
      ],
      "metadata": {
        "id": "TfJJXXjmhpw8"
      },
      "execution_count": null,
      "outputs": []
    },
    {
      "cell_type": "code",
      "source": [
        "# 4. Implement a multi-level inheritance scenario where a class Vehicle has an attribute type. Derive a class Car and further derive a class ElectricCar that adds a battery attribute\n",
        "class vehicle():\n",
        "  def __init__(self,type):\n",
        "    self.type = type\n",
        "    class Car(vehicle):\n",
        "      def __init__(self,type,color):\n",
        "        super().__init__(type)\n",
        "        self.color = color\n",
        "    class ElectricCar(Car):\n",
        "      def __init__(self,type,color,battery):\n",
        "        super().__init__(type,color)\n",
        "        self.battery = battery\n",
        "\n",
        "    car = Car(\"sedan\",\"red\")\n",
        "    print(car.type,car.color)\n",
        "\n",
        "    Elec= ElectricCar(\"sedan\",\"red\",1000)\n",
        "    print(Elec.type,Elec.color,Elec.battery)\n",
        "\n",
        "\n"
      ],
      "metadata": {
        "id": "OZekIg0_i98o"
      },
      "execution_count": null,
      "outputs": []
    },
    {
      "cell_type": "code",
      "source": [
        "#5. Write a program to demonstrate encapsulation by creating a class BankAccount with private attributes balance and methods to deposit, withdraw, and check balance.\n",
        "class BankAccount():\n",
        "  def __init__(self, balance, deposit, withdraw):\n",
        "    self.__balance = balance\n",
        "    self.__deposit = deposit\n",
        "    self.__withdraw = withdraw\n",
        "\n",
        "\n",
        "  def deposit(self, amount):\n",
        "    self.__balance += amount\n",
        "\n",
        "  def withdraw(self, amount):\n",
        "    if amount <= self.__balance:\n",
        "      self.__balance -= amount\n",
        "    else:\n",
        "      print(\"Insufficient balance\")\n",
        "\n",
        "  def check_balance(self):\n",
        "    return self.__balance\n",
        "\n",
        "acc1= BankAccount(1000,500,200)\n",
        "acc1.deposit(500)\n",
        "acc1.withdraw(200)\n",
        "print(acc1.check_balance())\n",
        "\n",
        "\n",
        "\n",
        "\n",
        "\n"
      ],
      "metadata": {
        "id": "51KOUmjVltOQ",
        "colab": {
          "base_uri": "https://localhost:8080/"
        },
        "outputId": "30104715-9278-4e79-f5b2-2f4f401fc30f"
      },
      "execution_count": null,
      "outputs": [
        {
          "output_type": "stream",
          "name": "stdout",
          "text": [
            "1300\n"
          ]
        }
      ]
    },
    {
      "cell_type": "code",
      "source": [
        "#6. Demonstrate runtime polymorphism using a method play() in a base class Instrument. Derive classes Guitar and Piano that implement their own version of play().\n",
        "class Instrument():\n",
        "  def play(self):\n",
        "    print(\"Instrument is playing\")\n",
        "class Guitar(Instrument):\n",
        "  def play(self):\n",
        "    print(\"Guitar is playing\")\n",
        "class Piano(Instrument):\n",
        "  def play(self):\n",
        "    print(\"Piano is playing\")\n",
        "\n",
        "guitar = Guitar()\n",
        "guitar.play()\n",
        "piano = Piano()\n",
        "piano.play()\n"
      ],
      "metadata": {
        "colab": {
          "base_uri": "https://localhost:8080/"
        },
        "id": "RBiJqqWN59Rm",
        "outputId": "f63c6469-c4cd-44fd-fb40-4b6f1a5f9e48"
      },
      "execution_count": null,
      "outputs": [
        {
          "output_type": "stream",
          "name": "stdout",
          "text": [
            "Guitar is playing\n",
            "Piano is playing\n"
          ]
        }
      ]
    },
    {
      "cell_type": "code",
      "source": [
        "#7. Create a class MathOperations with a class method add_numbers() to add two numbers and a static method subtract_numbers() to subtract two numbers.\n",
        "class MathOperations():\n",
        "  @classmethod\n",
        "  def add_numbers(cls,a,b):\n",
        "    return a+b\n",
        "  @staticmethod\n",
        "  def subtract_numbers(a,b):\n",
        "    return a-b\n",
        "\n",
        "add_numbers = MathOperations.add_numbers(9,3)\n",
        "print(\"additinon of numbers= \",add_numbers)\n",
        "subtract_numbers = MathOperations.subtract_numbers(26,3)\n",
        "print(\"Substraction of numbers= \",subtract_numbers)"
      ],
      "metadata": {
        "colab": {
          "base_uri": "https://localhost:8080/"
        },
        "id": "erqMRmzQ7A2C",
        "outputId": "f8ef62a0-b54d-439a-cc43-c9a15d498ddc"
      },
      "execution_count": null,
      "outputs": [
        {
          "output_type": "stream",
          "name": "stdout",
          "text": [
            "additinon of numbers=  12\n",
            "Substraction of numbers=  23\n"
          ]
        }
      ]
    },
    {
      "cell_type": "code",
      "source": [
        "#8. Implement a class Person with a class method to count the total number of persons created.\n",
        "class Person():\n",
        "  count = 0\n",
        "  def __init__(self):\n",
        "    Person.count += 1\n",
        "\n",
        "  @classmethod\n",
        "  def get_count(cls):\n",
        "    return Person.count\n",
        "\n",
        "person1 = Person()\n",
        "person2 = Person()\n",
        "person3 = Person()\n",
        "print(Person.get_count())"
      ],
      "metadata": {
        "colab": {
          "base_uri": "https://localhost:8080/"
        },
        "id": "B1NbD2WA76kI",
        "outputId": "c53a80aa-2d28-4fc7-a917-64916c1a5b13"
      },
      "execution_count": null,
      "outputs": [
        {
          "output_type": "stream",
          "name": "stdout",
          "text": [
            "3\n"
          ]
        }
      ]
    },
    {
      "cell_type": "code",
      "source": [
        "#9. Write a class Fraction with attributes numerator and denominator. Override the str method to display the fraction as \"numerator/denominator\".\n",
        "class Fraction():\n",
        "  def __init__(self,numerator,denominator):\n",
        "    self.numerator = numerator\n",
        "    self.denominator = denominator\n",
        "  def __str__(self):\n",
        "    return f\"{self.numerator}/{self.denominator}\"\n",
        "fraction = Fraction(6,8)\n",
        "print(fraction)"
      ],
      "metadata": {
        "colab": {
          "base_uri": "https://localhost:8080/"
        },
        "id": "c7YYmk-58nGJ",
        "outputId": "ca26743d-857c-4589-9478-ebb40400d100"
      },
      "execution_count": null,
      "outputs": [
        {
          "output_type": "stream",
          "name": "stdout",
          "text": [
            "6/8\n"
          ]
        }
      ]
    },
    {
      "cell_type": "code",
      "source": [
        "#10. Demonstrate operator overloading by creating a class Vector and overriding the add method to add two vectors.\n",
        "class Vector():\n",
        "  def __init__(self,x,y):\n",
        "    self.x = x\n",
        "    self.y = y\n",
        "  def __add__(self,other):\n",
        "    return Vector(self.x+other.x,self.y+other.y)\n",
        "\n",
        "  def __str__(self):\n",
        "    return f\"{self.x},{self.y}\"\n",
        "vector1 = Vector(1,2)\n",
        "vector2 = Vector(3,4)\n",
        "vector3 = vector1 + vector2\n",
        "print(vector3)"
      ],
      "metadata": {
        "colab": {
          "base_uri": "https://localhost:8080/"
        },
        "id": "-ljyNs_b89w2",
        "outputId": "8fc7f9ef-a23a-4dcb-9d82-5b561b2c746c"
      },
      "execution_count": null,
      "outputs": [
        {
          "output_type": "stream",
          "name": "stdout",
          "text": [
            "4,6\n"
          ]
        }
      ]
    },
    {
      "cell_type": "code",
      "source": [
        "#11. Create a class Person with attributes name and age. Add a method greet() that prints \"Hello, my name is {name} and I am {age} years old.\"\n",
        "class Person():\n",
        "  def __init__(self,name,age):\n",
        "    self.name = name\n",
        "    self.age = age\n",
        "  def greet(self):\n",
        "    print(f\"Hello, my name is {self.name} and I am {self.age} years old.\")\n",
        "a1=Person(\"ram\",20)\n",
        "a1.greet()"
      ],
      "metadata": {
        "colab": {
          "base_uri": "https://localhost:8080/"
        },
        "id": "PRh8gpYL9uI4",
        "outputId": "1d4e5880-7dc7-48ea-868c-6742972b7320"
      },
      "execution_count": null,
      "outputs": [
        {
          "output_type": "stream",
          "name": "stdout",
          "text": [
            "Hello, my name is ram and I am 20 years old.\n"
          ]
        }
      ]
    },
    {
      "cell_type": "code",
      "source": [
        "#12. Implement a class Student with attributes name and grades. Create a method average_grade() to compute the average of the grades.\n",
        "class Student():\n",
        "  def __init__(self,name,grades):\n",
        "    self.name = name\n",
        "    self.grades = grades\n",
        "  def average_grade(self):\n",
        "    return sum(self.grades)/len(self.grades)\n",
        "\n",
        "student1 = Student(\"ram\",[90,80,70])\n",
        "print(student1.average_grade())"
      ],
      "metadata": {
        "colab": {
          "base_uri": "https://localhost:8080/"
        },
        "id": "Ts0Atmn5-YmK",
        "outputId": "750e5253-306a-42ad-9913-e86cc43f5243"
      },
      "execution_count": null,
      "outputs": [
        {
          "output_type": "stream",
          "name": "stdout",
          "text": [
            "80.0\n"
          ]
        }
      ]
    },
    {
      "cell_type": "code",
      "source": [
        "#13. Create a class Rectangle with methods set_dimensions() to set the dimensions and area() to calculate the area.\n",
        "class Rectangle():\n",
        "  def __init__(self,length,width):\n",
        "    self.length = length\n",
        "    self.width = width\n",
        "  def set_dimensions(self,length,width):\n",
        "    self.length = length\n",
        "    self.width = width\n",
        "\n",
        "  def area(self):\n",
        "    return self.length*self.width\n",
        "rectangle = Rectangle(8,6)\n",
        "print(rectangle.area())\n",
        "rectangle.set_dimensions(10,5)\n",
        "print(rectangle.area())"
      ],
      "metadata": {
        "colab": {
          "base_uri": "https://localhost:8080/"
        },
        "id": "lKWHblvL-8mN",
        "outputId": "ca28e418-9a78-47bd-dd7c-99c027d19481"
      },
      "execution_count": null,
      "outputs": [
        {
          "output_type": "stream",
          "name": "stdout",
          "text": [
            "48\n",
            "50\n"
          ]
        }
      ]
    },
    {
      "cell_type": "code",
      "source": [
        "#14. Create a class Employee with a method calculate_salary() that computes the salary based on hours worked and hourly rate. Create a derived class Manager that adds a bonus to the salary.\n",
        "class Employee():\n",
        "  def __init__(self,hours_worked,hourly_rate):\n",
        "    self.hours_worked = hours_worked\n",
        "    self.hourly_rate = hourly_rate\n",
        "  def calculate_salary(self):\n",
        "    return self.hours_worked*self.hourly_rate\n",
        "class Manager(Employee):\n",
        "  def __init__(self,hours_worked,hourly_rate,bonus):\n",
        "    super().__init__(hours_worked,hourly_rate)\n",
        "    self.bonus = bonus\n",
        "\n",
        "  def calculate_salary(self):\n",
        "    return super().calculate_salary()+self.bonus\n",
        "manager = Manager(40,100,1000)\n",
        "print(manager.calculate_salary())"
      ],
      "metadata": {
        "colab": {
          "base_uri": "https://localhost:8080/"
        },
        "id": "BkVW3hKs_n4j",
        "outputId": "eb86e06d-f7d3-42d6-9677-a68c32b30a4e"
      },
      "execution_count": null,
      "outputs": [
        {
          "output_type": "stream",
          "name": "stdout",
          "text": [
            "5000\n"
          ]
        }
      ]
    },
    {
      "cell_type": "code",
      "source": [
        "#15. Create a class Product with attributes name, price, and quantity. Implement a method total_price() that calculates the total price of the product.\n",
        "class Product():\n",
        "  def __init__(self,name,price,quantity):\n",
        "    self.name = name\n",
        "    self.price = price\n",
        "    self.quantity = quantity\n",
        "  def total_price(self):\n",
        "    return self.price*self.quantity\n",
        "product = Product(\"pen\",10,2)\n",
        "print(product.total_price())"
      ],
      "metadata": {
        "colab": {
          "base_uri": "https://localhost:8080/"
        },
        "id": "-yAXg9gVA2pt",
        "outputId": "187e04f7-da45-4da7-fa78-99326725476b"
      },
      "execution_count": null,
      "outputs": [
        {
          "output_type": "stream",
          "name": "stdout",
          "text": [
            "20\n"
          ]
        }
      ]
    },
    {
      "cell_type": "code",
      "source": [
        "#16. Create a class Animal with an abstract method sound(). Create two derived classes Cow and Sheep that implement the sound() method.\n",
        "class Animal():\n",
        "  def sound(self):\n",
        "    pass\n",
        "class Cow(Animal):\n",
        "  def sound(self):\n",
        "    print(\"Moo\")\n",
        "class Sheep(Animal):\n",
        "  def sound(self):\n",
        "    print(\"Baa\")\n",
        "\n",
        "cow = Cow()\n",
        "cow.sound()\n",
        "sheep = Sheep()\n",
        "sheep.sound()"
      ],
      "metadata": {
        "colab": {
          "base_uri": "https://localhost:8080/"
        },
        "id": "zrW-WNUMBBt-",
        "outputId": "efdd195c-4d7e-42e1-d506-c54554182112"
      },
      "execution_count": null,
      "outputs": [
        {
          "output_type": "stream",
          "name": "stdout",
          "text": [
            "Moo\n",
            "Baa\n"
          ]
        }
      ]
    },
    {
      "cell_type": "code",
      "source": [
        "#17. Create a class Book with attributes title, author, and year_published. Add a method get_book_info() that returns a formatted string with the book's details.\n",
        "class Book():\n",
        "  def __init__(self,title,author,year_published):\n",
        "    self.title = title\n",
        "    self.author = author\n",
        "    self.year_published = year_published\n",
        "  def get_book_info(self):\n",
        "    return f\"Title: {self.title}\\nAuthor: {self.author}\\nYear Published: {self.year_published}\"\n",
        "\n",
        "\n",
        "book = Book(\"The Alchemist\",\"Paulo Coelho\",1988)\n",
        "print(book.get_book_info())\n"
      ],
      "metadata": {
        "colab": {
          "base_uri": "https://localhost:8080/"
        },
        "id": "7S2rrLRoBRxL",
        "outputId": "93e8eb7b-f8e9-4ebe-e01c-b56aeac504d8"
      },
      "execution_count": null,
      "outputs": [
        {
          "output_type": "stream",
          "name": "stdout",
          "text": [
            "Title: The Alchemist\n",
            "Author: Paulo Coelho\n",
            "Year Published: 1988\n"
          ]
        }
      ]
    },
    {
      "cell_type": "code",
      "source": [
        "#18. Create a class House with attributes address and price. Create a derived class Mansion that adds an attribute number_of_rooms.\n",
        "class House():\n",
        "  def __init__(self,address,price):\n",
        "    self.address = address\n",
        "    self.price = price\n",
        "class Mansion(House):\n",
        "  def __init__(self,address,price,number_of_rooms):\n",
        "    super().__init__(address,price)\n",
        "    self.number_of_rooms = number_of_rooms\n",
        "\n",
        "mansion = Mansion(\"123 Main St\",1000000,10)\n",
        "print(mansion.address,mansion.price,mansion.number_of_rooms)"
      ],
      "metadata": {
        "colab": {
          "base_uri": "https://localhost:8080/"
        },
        "id": "LThvUsKdBkzE",
        "outputId": "be1f1116-38a4-4fdf-e315-41c45d2b3080"
      },
      "execution_count": null,
      "outputs": [
        {
          "output_type": "stream",
          "name": "stdout",
          "text": [
            "123 Main St 1000000 10\n"
          ]
        }
      ]
    },
    {
      "cell_type": "code",
      "source": [],
      "metadata": {
        "id": "oZCS7jtoBvGE"
      },
      "execution_count": null,
      "outputs": []
    }
  ]
}