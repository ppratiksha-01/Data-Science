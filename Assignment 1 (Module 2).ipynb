{
  "nbformat": 4,
  "nbformat_minor": 0,
  "metadata": {
    "colab": {
      "provenance": []
    },
    "kernelspec": {
      "name": "python3",
      "display_name": "Python 3"
    },
    "language_info": {
      "name": "python"
    }
  },
  "cells": [
    {
      "cell_type": "markdown",
      "source": [
        "**Python basics question**\n",
        "\n",
        "1. What is Python, and why is it popular?\n",
        "ANS=\n",
        "Python is a high-level, easy-to-read programming language used for web development, data science, automation, and more. It’s popular due to its simplicity, readability, large community, and extensive libraries.\n",
        "\n",
        "2. What is an interpreter in Python?\n",
        "ANS=\n",
        "An interpreter executes Python code line by line, converting it to machine code in real-time, instead of compiling it all at once like other languages (e.g., C).\n",
        "\n",
        "3. What are pre-defined keywords in Python?\n",
        "ANS=\n",
        "Keywords are reserved words in Python that have special meaning (e.g., if, for, True). They cannot be used as variable names.\n",
        "\n",
        "4. Can keywords be used as variable names?\n",
        "ANS=\n",
        "No, keywords are reserved and cannot be used as variable names in Python.\n",
        "\n",
        "5. What is mutability in Python?\n",
        "ANS=\n",
        "Mutability refers to whether an object’s state can be changed after it is created. Mutable objects (e.g., lists) can be modified, while immutable objects (e.g., tuples) cannot.\n",
        "\n",
        "6. Why are lists mutable, but tuples are immutable?\n",
        "ANS=\n",
        "Lists are designed to be flexible and can be modified after creation. Tuples are meant to be fixed and unchangeable to provide security and performance benefits.\n",
        "\n",
        "7. What is the difference between “==” and “is” operators in Python?\n",
        "ANS=\n",
        "== checks if values are equal, while is checks if two variables refer to the same object in memory.\n",
        "\n",
        "8. What are logical operators in Python?\n",
        "ANS=\n",
        "Logical operators include and, or, and not, used to combine conditional statements or invert a condition.\n",
        "\n",
        "9. What is type casting in Python?\n",
        "ANS=\n",
        "Type casting is converting one data type to another, such as turning a string into an integer.\n",
        "\n",
        "10. What is the difference between implicit and explicit type casting?\n",
        "ANS=\n",
        "Implicit casting is automatically done by Python (e.g., converting int to float), while explicit casting requires the programmer to manually specify the type (e.g., using int() or str()).\n",
        "\n",
        "11. What is the purpose of conditional statements in Python?\n",
        "Conditional statements (like if, elif, else) allow the program to make decisions based on different conditions.\n",
        "\n",
        "12. How does the elif statement work?\n",
        "elif allows you to check multiple conditions. If the if condition is false, Python checks the elif conditions in order, executing the first true one.\n",
        "\n",
        "13. What is the difference between for and while loops?\n",
        "A for loop iterates over a fixed number of items or a range, while a while loop continues as long as a condition is true.\n",
        "\n",
        "14. Describe a scenario where a while loop is more suitable than a for loop.\n",
        "Use a while loop when you don't know beforehand how many times you need to loop, such as waiting for user input or a certain condition to be met.\n",
        "\n",
        "\n",
        "\n"
      ],
      "metadata": {
        "id": "gFfGXqb8NLZ7"
      }
    },
    {
      "cell_type": "markdown",
      "source": [
        "Practical Questions"
      ],
      "metadata": {
        "id": "of0jU2-wEqma"
      }
    },
    {
      "cell_type": "code",
      "source": [
        "#1. Write a Python program to print \"Hello, World!\n",
        "print(\"Hello World\")"
      ],
      "metadata": {
        "colab": {
          "base_uri": "https://localhost:8080/"
        },
        "id": "3WL4K0YRE2KU",
        "outputId": "7f17edd6-21f4-464d-b7e7-245657d5f75f"
      },
      "execution_count": 1,
      "outputs": [
        {
          "output_type": "stream",
          "name": "stdout",
          "text": [
            "Hello World\n"
          ]
        }
      ]
    },
    {
      "cell_type": "code",
      "source": [
        "#2. Write a Python program that displays your name and age\n",
        "Name= \"Pratiksha\"\n",
        "Age= 22\n",
        "print(\"My name is\",Name)\n",
        "print(\"My age is\",Age)"
      ],
      "metadata": {
        "colab": {
          "base_uri": "https://localhost:8080/"
        },
        "id": "LKFfWoOrFFBR",
        "outputId": "0f2f9dc9-1bc8-421a-c64e-fff8a12541d9"
      },
      "execution_count": 4,
      "outputs": [
        {
          "output_type": "stream",
          "name": "stdout",
          "text": [
            "My name is Pratiksha\n",
            "My age is 22\n"
          ]
        }
      ]
    },
    {
      "cell_type": "code",
      "source": [
        "#3.Write code to print all the pre-defined keywords in Python using the keyword library\n",
        "import keyword\n",
        "print(keyword.kwlist)\n"
      ],
      "metadata": {
        "colab": {
          "base_uri": "https://localhost:8080/"
        },
        "id": "fmTe7wFPFdze",
        "outputId": "64b5519d-5a0d-48ae-a185-176675d02d69"
      },
      "execution_count": 62,
      "outputs": [
        {
          "output_type": "stream",
          "name": "stdout",
          "text": [
            "['False', 'None', 'True', 'and', 'as', 'assert', 'async', 'await', 'break', 'class', 'continue', 'def', 'del', 'elif', 'else', 'except', 'finally', 'for', 'from', 'global', 'if', 'import', 'in', 'is', 'lambda', 'nonlocal', 'not', 'or', 'pass', 'raise', 'return', 'try', 'while', 'with', 'yield']\n"
          ]
        }
      ]
    },
    {
      "cell_type": "code",
      "source": [
        "#4. Write a program that checks if a given word is a Python keyword\n",
        "import keyword\n",
        "b= keyword.kwlist\n",
        "a= input(\"Word: \")\n",
        "if a in b:\n",
        "  print(\"It is a keyword\")\n",
        "else:\n",
        "  print(\"This is word\")"
      ],
      "metadata": {
        "colab": {
          "base_uri": "https://localhost:8080/"
        },
        "id": "ZlpmDk70GAhi",
        "outputId": "5346899f-251c-4f46-d905-24255f2336d3"
      },
      "execution_count": 23,
      "outputs": [
        {
          "output_type": "stream",
          "name": "stdout",
          "text": [
            "Word: dfghj\n",
            "This is word\n"
          ]
        }
      ]
    },
    {
      "cell_type": "code",
      "source": [
        "#5 Create a list and tuple in Python, and demonstrate how attempting to change an element works differently for each\n",
        "   #List\n",
        "list= [2,3j+7,\"Ajay\",False]\n",
        "tuple= (2,3j+7,\"Ajay\",False)\n",
        "\n",
        "list[3]= \"Reshma\"   #List is mutable where I tried to change the boolean to string\n",
        "print(\"This is for list\",list)\n",
        "\n",
        "\n",
        "print(\"This is for tuple\",tuple)\n",
        "tuple[1]=4   #where tried to change the complex to integer and we could see error pops up for tuple and that is immutable\n",
        "\n"
      ],
      "metadata": {
        "colab": {
          "base_uri": "https://localhost:8080/",
          "height": 228
        },
        "id": "R6djDOt9I-27",
        "outputId": "08fc104b-1e35-498d-c43f-11e7da2059bd"
      },
      "execution_count": 30,
      "outputs": [
        {
          "output_type": "stream",
          "name": "stdout",
          "text": [
            "This is for list [2, (7+3j), 'Ajay', 'Reshma']\n",
            "This is for tuple (2, (7+3j), 'Ajay', False)\n"
          ]
        },
        {
          "output_type": "error",
          "ename": "TypeError",
          "evalue": "'tuple' object does not support item assignment",
          "traceback": [
            "\u001b[0;31m---------------------------------------------------------------------------\u001b[0m",
            "\u001b[0;31mTypeError\u001b[0m                                 Traceback (most recent call last)",
            "\u001b[0;32m<ipython-input-30-12975f3b1328>\u001b[0m in \u001b[0;36m<cell line: 11>\u001b[0;34m()\u001b[0m\n\u001b[1;32m      9\u001b[0m \u001b[0;34m\u001b[0m\u001b[0m\n\u001b[1;32m     10\u001b[0m \u001b[0mprint\u001b[0m\u001b[0;34m(\u001b[0m\u001b[0;34m\"This is for tuple\"\u001b[0m\u001b[0;34m,\u001b[0m\u001b[0mtuple\u001b[0m\u001b[0;34m)\u001b[0m\u001b[0;34m\u001b[0m\u001b[0;34m\u001b[0m\u001b[0m\n\u001b[0;32m---> 11\u001b[0;31m \u001b[0mtuple\u001b[0m\u001b[0;34m[\u001b[0m\u001b[0;36m1\u001b[0m\u001b[0;34m]\u001b[0m\u001b[0;34m=\u001b[0m\u001b[0;36m4\u001b[0m   \u001b[0;31m#where tried to change the complex to integer and we could see error pops up for tuple and that is immutable\u001b[0m\u001b[0;34m\u001b[0m\u001b[0;34m\u001b[0m\u001b[0m\n\u001b[0m\u001b[1;32m     12\u001b[0m \u001b[0;34m\u001b[0m\u001b[0m\n",
            "\u001b[0;31mTypeError\u001b[0m: 'tuple' object does not support item assignment"
          ]
        }
      ]
    },
    {
      "cell_type": "code",
      "source": [
        "#6 Write a function to demonstrate the behavior of mutable and immutable arguments\n",
        "def modify_list(lst):\n",
        "    lst.append(4)\n",
        "\n",
        "def modify_string(s):\n",
        "    s += \" world\"\n",
        "\n",
        "my_list = [1, 2, 3]\n",
        "my_string = \"hello\"\n",
        "\n",
        "modify_list(my_list)\n",
        "print(\"Modified list:\", my_list) #Mutable\n",
        "\n",
        "modify_string(my_string)\n",
        "print(\"String after function call:\", my_string) #immutable\n",
        ""
      ],
      "metadata": {
        "colab": {
          "base_uri": "https://localhost:8080/"
        },
        "id": "PaopIniyNSoy",
        "outputId": "df944415-3580-4585-d0b0-3e4de2fdee06"
      },
      "execution_count": 72,
      "outputs": [
        {
          "output_type": "stream",
          "name": "stdout",
          "text": [
            "Modified list: [1, 2, 3, 4]\n",
            "String after function call: hello\n"
          ]
        }
      ]
    },
    {
      "cell_type": "code",
      "source": [
        "#7 Write a function to demonstrate the behavior of mutable and immutable arguments\n",
        "def modify_list(lst):\n",
        "    lst.append(4)\n",
        "\n",
        "def modify_string(s):\n",
        "    s += \" world\"\n",
        "\n",
        "my_list = [1, 2, 3]\n",
        "my_string = \"hello\"\n",
        "\n",
        "modify_list(my_list)\n",
        "print(\"Modified list:\", my_list) #Mutable\n",
        "\n",
        "modify_string(my_string)\n",
        "print(\"String after function call:\", my_string) #immutable"
      ],
      "metadata": {
        "id": "GFKh3ckcfge4"
      },
      "execution_count": 2,
      "outputs": []
    },
    {
      "cell_type": "code",
      "source": [
        "#8 Write a program to demonstrate the use of logical operators\n",
        "   #AND\n",
        "a=10\n",
        "print(a>5 and a<15)\n",
        "\n",
        "b=12\n",
        "print(b>13 and b<13)\n",
        ""
      ],
      "metadata": {
        "colab": {
          "base_uri": "https://localhost:8080/"
        },
        "id": "tsSeFEAsfiNC",
        "outputId": "6a9c817b-575c-442f-df87-67fbefb2d3f8"
      },
      "execution_count": 7,
      "outputs": [
        {
          "output_type": "stream",
          "name": "stdout",
          "text": [
            "True\n",
            "False\n"
          ]
        }
      ]
    },
    {
      "cell_type": "code",
      "source": [
        "#or\n",
        "a=10\n",
        "print(a<=10 or a<12)\n",
        "\n",
        "b=12\n",
        "print(b>=12 or b<10)"
      ],
      "metadata": {
        "colab": {
          "base_uri": "https://localhost:8080/"
        },
        "id": "D5yIMhdRg9Pw",
        "outputId": "a11cf632-8926-49fe-e11b-0eb227e5f1b9"
      },
      "execution_count": 9,
      "outputs": [
        {
          "output_type": "stream",
          "name": "stdout",
          "text": [
            "True\n",
            "True\n"
          ]
        }
      ]
    },
    {
      "cell_type": "code",
      "source": [
        "#xor\n",
        "a=10\n",
        "print(a>5 ^ a<15)\n",
        "\n",
        "b=12\n",
        "print(b>13 ^ b<13)\n",
        "\n"
      ],
      "metadata": {
        "colab": {
          "base_uri": "https://localhost:8080/"
        },
        "id": "vp0meo6GinFZ",
        "outputId": "1ca4c4fb-d080-4e09-e7f7-53f1de187862"
      },
      "execution_count": 73,
      "outputs": [
        {
          "output_type": "stream",
          "name": "stdout",
          "text": [
            "False\n",
            "True\n"
          ]
        }
      ]
    },
    {
      "cell_type": "code",
      "source": [
        "#9. Write a Python program to convert user input from string to integer, float, and boolean types\n",
        "#Str to Integer\n",
        "a=input(\"Enter the string \")\n",
        "print(int(a))\n",
        "print(\"String to Integer is \",type(int(a)))\n",
        "\n",
        "#Str to float\n",
        "b=input(\"Enter the decimal as string \")\n",
        "print(float(b))\n",
        "print(\"String to float is \",type(float(b)))\n",
        "\n",
        "#str to boolean\n",
        "c=input(\"enter the number as a str \")\n",
        "print(bool(c))\n",
        "print(\"Str to boolean \",type(bool(c)))\n"
      ],
      "metadata": {
        "colab": {
          "base_uri": "https://localhost:8080/"
        },
        "id": "DoUyt-MClmPp",
        "outputId": "459ef37e-801a-48eb-ddd2-f77f2df25d52"
      },
      "execution_count": 22,
      "outputs": [
        {
          "output_type": "stream",
          "name": "stdout",
          "text": [
            "Enter the string 56\n",
            "56\n",
            "String to Integer is  <class 'int'>\n",
            "Enter the decimal as string 67\n",
            "67.0\n",
            "String to float is  <class 'float'>\n",
            "enter the number as a str sdfghj\n",
            "True\n",
            "Str to boolean  <class 'bool'>\n"
          ]
        }
      ]
    },
    {
      "cell_type": "code",
      "source": [
        "#10 Write code to demonstrate type casting with list elements\n",
        "casting= [\"1\",3.4,7,\"5.4\",24]\n",
        "#typecasting to str\n",
        "for i in range(len(casting)):\n",
        "  casting[i]=str(casting[i])\n",
        "\n",
        "print(f\"Type casting list to str {casting}\")\n",
        "\n",
        "#typecasting to float\n",
        "for i in range(len(casting)):\n",
        "  casting[i]=float(casting[i])\n",
        "\n",
        "print(f\"Type casting list to float {casting}\")\n",
        "\n",
        "#typecasting to int\n",
        "for i in range(len(casting)):\n",
        "  casting[i]=int(casting[i])\n",
        "\n",
        "print(f\"Type casting list to int {casting}\")\n",
        "\n",
        "\n",
        "\n"
      ],
      "metadata": {
        "colab": {
          "base_uri": "https://localhost:8080/"
        },
        "id": "D7cz_KrTmAaP",
        "outputId": "e69a0c8e-c4be-44f9-dc86-e3b759698ca3"
      },
      "execution_count": 17,
      "outputs": [
        {
          "output_type": "stream",
          "name": "stdout",
          "text": [
            "Type casting list to str ['1', '3.4', '7', '5.4', '24']\n",
            "Type casting list to float [1.0, 3.4, 7.0, 5.4, 24.0]\n",
            "Type casting list to int [1, 3, 7, 5, 24]\n"
          ]
        }
      ]
    },
    {
      "cell_type": "code",
      "source": [
        "#11.Write a program that checks if a number is positive, negative, or zero\n",
        "num= int(input(\"Enter the number \"))\n",
        "if num>0:\n",
        "  print(\"Number is positive\")\n",
        "elif num<0:\n",
        "  print(\"Number is negative\")\n",
        "else:\n",
        "  print(\"Number is zero\")"
      ],
      "metadata": {
        "colab": {
          "base_uri": "https://localhost:8080/"
        },
        "id": "wqpeo-35ppWQ",
        "outputId": "c2c27bff-aead-4b44-deb4-ec16a3956289"
      },
      "execution_count": 18,
      "outputs": [
        {
          "output_type": "stream",
          "name": "stdout",
          "text": [
            "Enter the number 3\n",
            "Number is positive\n"
          ]
        }
      ]
    },
    {
      "cell_type": "code",
      "source": [
        "#12.Write a for loop to print numbers from 1 to 100\n",
        "for i in range(1,101):\n",
        "  print(i)"
      ],
      "metadata": {
        "colab": {
          "base_uri": "https://localhost:8080/"
        },
        "id": "bhu3LHZxsoCy",
        "outputId": "055805f7-baa4-4a12-d88b-2f1affe2ca7c"
      },
      "execution_count": 19,
      "outputs": [
        {
          "output_type": "stream",
          "name": "stdout",
          "text": [
            "1\n",
            "2\n",
            "3\n",
            "4\n",
            "5\n",
            "6\n",
            "7\n",
            "8\n",
            "9\n",
            "10\n",
            "11\n",
            "12\n",
            "13\n",
            "14\n",
            "15\n",
            "16\n",
            "17\n",
            "18\n",
            "19\n",
            "20\n",
            "21\n",
            "22\n",
            "23\n",
            "24\n",
            "25\n",
            "26\n",
            "27\n",
            "28\n",
            "29\n",
            "30\n",
            "31\n",
            "32\n",
            "33\n",
            "34\n",
            "35\n",
            "36\n",
            "37\n",
            "38\n",
            "39\n",
            "40\n",
            "41\n",
            "42\n",
            "43\n",
            "44\n",
            "45\n",
            "46\n",
            "47\n",
            "48\n",
            "49\n",
            "50\n",
            "51\n",
            "52\n",
            "53\n",
            "54\n",
            "55\n",
            "56\n",
            "57\n",
            "58\n",
            "59\n",
            "60\n",
            "61\n",
            "62\n",
            "63\n",
            "64\n",
            "65\n",
            "66\n",
            "67\n",
            "68\n",
            "69\n",
            "70\n",
            "71\n",
            "72\n",
            "73\n",
            "74\n",
            "75\n",
            "76\n",
            "77\n",
            "78\n",
            "79\n",
            "80\n",
            "81\n",
            "82\n",
            "83\n",
            "84\n",
            "85\n",
            "86\n",
            "87\n",
            "88\n",
            "89\n",
            "90\n",
            "91\n",
            "92\n",
            "93\n",
            "94\n",
            "95\n",
            "96\n",
            "97\n",
            "98\n",
            "99\n",
            "100\n"
          ]
        }
      ]
    },
    {
      "cell_type": "code",
      "source": [
        "#13. Write a Python program to find the sum of all even numbers between 1 and 500\n",
        "num_sum=0\n",
        "for i in range(1,501):\n",
        "  if i%2==0:\n",
        "    num_sum=num_sum+i\n",
        "print(num_sum)\n",
        "\n",
        "\n",
        ""
      ],
      "metadata": {
        "colab": {
          "base_uri": "https://localhost:8080/"
        },
        "id": "CJ65Pnp9-SZt",
        "outputId": "cf62cda8-ec40-4768-d261-2f0004bafcf0"
      },
      "execution_count": 27,
      "outputs": [
        {
          "output_type": "stream",
          "name": "stdout",
          "text": [
            "62750\n"
          ]
        }
      ]
    },
    {
      "cell_type": "code",
      "source": [
        "#14. Write a program to reverse a string using a while loop\n",
        "name=\"Priya\"\n",
        "i=len(name)-1\n",
        "while i>=0:\n",
        "  print(name[i], end='')\n",
        "  i=i-1\n",
        "\n",
        "\n"
      ],
      "metadata": {
        "colab": {
          "base_uri": "https://localhost:8080/"
        },
        "id": "C6fTr18H-qar",
        "outputId": "9f3b5336-2835-4d87-8cd8-6da04243cb1a"
      },
      "execution_count": 66,
      "outputs": [
        {
          "output_type": "stream",
          "name": "stdout",
          "text": [
            "ayirP"
          ]
        }
      ]
    },
    {
      "cell_type": "code",
      "source": [
        "#15. Write a Python program to calculate the factorial of a number provided by the user using a while loop\n",
        "number=int(input(\"Enter the number \"))\n",
        "i=1\n",
        "while number>0:\n",
        "  i=i*number\n",
        "  number=number-1\n",
        "print(i)"
      ],
      "metadata": {
        "colab": {
          "base_uri": "https://localhost:8080/"
        },
        "id": "d9LAUPr6Acly",
        "outputId": "59a135c8-14e2-4c1d-cefb-4310f4b92a5a"
      },
      "execution_count": 47,
      "outputs": [
        {
          "output_type": "stream",
          "name": "stdout",
          "text": [
            "Enter the number 8\n",
            "40320\n"
          ]
        }
      ]
    },
    {
      "cell_type": "code",
      "source": [],
      "metadata": {
        "id": "bl2SGpvXCkHy"
      },
      "execution_count": null,
      "outputs": []
    }
  ]
}